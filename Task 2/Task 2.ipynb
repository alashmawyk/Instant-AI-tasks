{
 "cells": [
  {
   "cell_type": "markdown",
   "id": "6e6fba21",
   "metadata": {},
   "source": [
    "##             This is the soluton of task 2 - AI Instant - Khaled Alashmawy"
   ]
  },
  {
   "cell_type": "markdown",
   "id": "a477d03f",
   "metadata": {},
   "source": [
    "#### ---------------------------------------------------------------------------------------------------------------------------------------------------------"
   ]
  },
  {
   "cell_type": "markdown",
   "id": "77a29816",
   "metadata": {},
   "source": [
    "#### Q-1 :  Write a Python program to find those numbers which are divisible by 7\n",
    " and multiple of 5, between 1500 and 2700 (both included)."
   ]
  },
  {
   "cell_type": "code",
   "execution_count": 13,
   "id": "2ae81a75",
   "metadata": {},
   "outputs": [
    {
     "name": "stdout",
     "output_type": "stream",
     "text": [
      "1505\n",
      "1540\n",
      "1575\n",
      "1610\n",
      "1645\n",
      "1680\n",
      "1715\n",
      "1750\n",
      "1785\n",
      "1820\n",
      "1855\n",
      "1890\n",
      "1925\n",
      "1960\n",
      "1995\n",
      "2030\n",
      "2065\n",
      "2100\n",
      "2135\n",
      "2170\n",
      "2205\n",
      "2240\n",
      "2275\n",
      "2310\n",
      "2345\n",
      "2380\n",
      "2415\n",
      "2450\n",
      "2485\n",
      "2520\n",
      "2555\n",
      "2590\n",
      "2625\n",
      "2660\n",
      "2695\n"
     ]
    }
   ],
   "source": [
    "for i in range(1500, 2701):\n",
    "    if i % 5 == 0 and (i/5) % 7 == 0:\n",
    "        print(i)\n",
    "    "
   ]
  },
  {
   "cell_type": "markdown",
   "id": "73364420",
   "metadata": {},
   "source": [
    "#### ---------------------------------------------------------------------------------------------------------------------------------------------------------"
   ]
  },
  {
   "cell_type": "markdown",
   "id": "d1ead12b",
   "metadata": {},
   "source": [
    "\n",
    "\n",
    "#### Q-2 :  Write a Python program to convert temperatures to and from celsius, fahrenheit.\n",
    " Formula : c/5 = f-32/9 [ where c = temperature in celsius and f = temperature in fahrenheit ]"
   ]
  },
  {
   "cell_type": "code",
   "execution_count": 15,
   "id": "996288d3",
   "metadata": {},
   "outputs": [
    {
     "name": "stdout",
     "output_type": "stream",
     "text": [
      "Enter tempe to convert from C to F : 36\n",
      "the temperature with fahrenheit is = 96.8F.\n"
     ]
    }
   ],
   "source": [
    "temp = float(input(\"Enter tempe to convert from C to F : \"))\n",
    "tf = (temp*1.8)+32\n",
    "print(f'the temperature with fahrenheit is = {tf}F.')"
   ]
  },
  {
   "cell_type": "markdown",
   "id": "d2135649",
   "metadata": {},
   "source": [
    "#### ---------------------------------------------------------------------------------------------------------------------------------------------------------"
   ]
  },
  {
   "cell_type": "markdown",
   "id": "702b4dbb",
   "metadata": {},
   "source": [
    "#### Q-3 : Write a Python program to construct the following pattern, using a nested for loop."
   ]
  },
  {
   "cell_type": "code",
   "execution_count": 16,
   "id": "9714150b",
   "metadata": {},
   "outputs": [
    {
     "name": "stdout",
     "output_type": "stream",
     "text": [
      "\n",
      "*\n",
      "**\n",
      "***\n",
      "****\n",
      "*****\n",
      "****\n",
      "***\n",
      "**\n",
      "*\n",
      "\n"
     ]
    }
   ],
   "source": [
    "for i in range(1):\n",
    "\n",
    "    for p in range(6):\n",
    "        print(\"*\"*p)\n",
    "    for n in range(5):\n",
    "        c = 4-n\n",
    "        print(\"*\"*c)"
   ]
  },
  {
   "cell_type": "markdown",
   "id": "3e60ad58",
   "metadata": {},
   "source": [
    "#### ---------------------------------------------------------------------------------------------------------------------------------------------------------"
   ]
  },
  {
   "cell_type": "markdown",
   "id": "ea2d6748",
   "metadata": {},
   "source": [
    "#### Q-4 : Write a Python program that accepts a word from the user and reverse it"
   ]
  },
  {
   "cell_type": "code",
   "execution_count": 19,
   "id": "282bda53",
   "metadata": {},
   "outputs": [
    {
     "name": "stdout",
     "output_type": "stream",
     "text": [
      "Enter a word to reverse:Khaled\n",
      "delahK\n"
     ]
    }
   ],
   "source": [
    "word = str(input(\"Enter a word to reverse:\"))\n",
    "reverse = \"\"\n",
    "\n",
    "for i in range(1, len(word)+1):\n",
    "    reverse += word[-i]\n",
    "print(reverse)"
   ]
  },
  {
   "cell_type": "markdown",
   "id": "9cae0181",
   "metadata": {},
   "source": [
    "#### ---------------------------------------------------------------------------------------------------------------------------------------------------------"
   ]
  },
  {
   "cell_type": "markdown",
   "id": "45b7189e",
   "metadata": {},
   "source": [
    "#### Q-5 : Write a Python function to find the Max of three numbers."
   ]
  },
  {
   "cell_type": "code",
   "execution_count": 21,
   "id": "44bb12ea",
   "metadata": {},
   "outputs": [
    {
     "name": "stdout",
     "output_type": "stream",
     "text": [
      "Enter three numbers\n",
      "Enter 1st number : 1\n",
      "Enter 2nd number : 2\n",
      "Enter 3rd number : 3\n",
      "3rd number is the biggest 3\n"
     ]
    }
   ],
   "source": [
    "print(\"Enter three numbers\")\n",
    "\n",
    "n1 = int(input(\"Enter 1st number : \"))\n",
    "n2 = int(input(\"Enter 2nd number : \"))\n",
    "n3 = int(input(\"Enter 3rd number : \"))\n",
    "\n",
    "def big(n1,n2,n3):\n",
    "    if n1 > n2 and n1 > n3:\n",
    "        return print(f\"1st number is  the biggest {n1}\")\n",
    "\n",
    "    elif n2 > n1 and n2 > n3:\n",
    "        return print(f\"2nd number is the biggest {n2}\")\n",
    "\n",
    "    elif n3 > n1 and n3 > n2:\n",
    "        return print(f\"3rd number is the biggest {n3}\")\n",
    "\n",
    "    else:\n",
    "        return print(f\"All three numbers are equal {n1},{n2},{n3}\")\n",
    "big(n1,n2,n3)"
   ]
  },
  {
   "cell_type": "markdown",
   "id": "419942ee",
   "metadata": {},
   "source": [
    "#### ---------------------------------------------------------------------------------------------------------------------------------------------------------"
   ]
  },
  {
   "cell_type": "markdown",
   "id": "a2ab7ec2",
   "metadata": {},
   "source": [
    "#### Q-6 : Write a Python function to sum all the numbers in a list.\n"
   ]
  },
  {
   "cell_type": "code",
   "execution_count": 24,
   "id": "e828d1f1",
   "metadata": {},
   "outputs": [
    {
     "data": {
      "text/plain": [
       "110"
      ]
     },
     "execution_count": 24,
     "metadata": {},
     "output_type": "execute_result"
    }
   ],
   "source": [
    "def sum_number(ls):\n",
    "    sum_list = 0\n",
    "    \n",
    "    for i in range(0, len(list)):\n",
    "        sum_list = sum_list + list[i]\n",
    "    return sum_list\n",
    "\n",
    "\n",
    "list = [11, 22, 33, 44]\n",
    "sum_number(list)"
   ]
  },
  {
   "cell_type": "markdown",
   "id": "b1e1a4aa",
   "metadata": {},
   "source": [
    "#### ---------------------------------------------------------------------------------------------------------------------------------------------------------"
   ]
  },
  {
   "cell_type": "markdown",
   "id": "e8daec5c",
   "metadata": {},
   "source": [
    "#### Q-7 :  Write a Python program that prints all the numbers from 0 to 6 except 3 and 6. Note : Use 'continue' statement."
   ]
  },
  {
   "cell_type": "code",
   "execution_count": 26,
   "id": "4dba33c7",
   "metadata": {},
   "outputs": [
    {
     "name": "stdout",
     "output_type": "stream",
     "text": [
      "0\n",
      "1\n",
      "2\n",
      "4\n",
      "5\n"
     ]
    }
   ],
   "source": [
    "for i in range(0, 6+1):\n",
    "    if i != 3 and i != 6:\n",
    "        print(i)\n",
    "    else:\n",
    "        continue"
   ]
  },
  {
   "cell_type": "markdown",
   "id": "7da7c9ef",
   "metadata": {},
   "source": [
    "#### ---------------------------------------------------------------------------------------------------------------------------------------------------------"
   ]
  },
  {
   "cell_type": "markdown",
   "id": "61f0eef3",
   "metadata": {},
   "source": [
    "#### Q-8 : Write a Python function to calculate the factorial of a number (a non-negative integer). The function accepts the number as an argument."
   ]
  },
  {
   "cell_type": "code",
   "execution_count": 28,
   "id": "548df078",
   "metadata": {},
   "outputs": [
    {
     "name": "stdout",
     "output_type": "stream",
     "text": [
      "Enter a number to calculate the factiorial : 5\n"
     ]
    },
    {
     "data": {
      "text/plain": [
       "120"
      ]
     },
     "execution_count": 28,
     "metadata": {},
     "output_type": "execute_result"
    }
   ],
   "source": [
    "def fact(num):\n",
    "    fact_num = 1\n",
    "    for i in range(1, num+1):\n",
    "        fact_num *= i\n",
    "    return fact_num\n",
    "\n",
    "inp=int(input(\"Enter a number to calculate the factiorial : \"))\n",
    "fact(inp)"
   ]
  },
  {
   "cell_type": "markdown",
   "id": "06dcde84",
   "metadata": {},
   "source": [
    "#### ---------------------------------------------------------------------------------------------------------------------------------------------------------"
   ]
  },
  {
   "cell_type": "markdown",
   "id": "cf806f21",
   "metadata": {},
   "source": [
    "#### Q-9 :  Write a Python function that takes a list and returns a new list with unique elements of the first list."
   ]
  },
  {
   "cell_type": "code",
   "execution_count": 31,
   "id": "5fbbe315",
   "metadata": {},
   "outputs": [
    {
     "name": "stdout",
     "output_type": "stream",
     "text": [
      "[1, 2, 3, 4, 5]\n"
     ]
    }
   ],
   "source": [
    "def unique(ls):\n",
    "    ul = []\n",
    "    for c in ls:\n",
    "        if c not in ul:\n",
    "            ul.append(c)\n",
    "    return ul\n",
    "\n",
    "\n",
    "print(unique([1, 2, 3, 3, 3, 3, 4, 5]))"
   ]
  },
  {
   "cell_type": "markdown",
   "id": "e4e0866b",
   "metadata": {},
   "source": [
    "#### ---------------------------------------------------------------------------------------------------------------------------------------------------------"
   ]
  },
  {
   "cell_type": "markdown",
   "id": "ea68281e",
   "metadata": {},
   "source": [
    "#### Q-10 :  Write a Python program to create a lambda function that adds 15 to a given number passed in as an argument, also create a lambda function that multiplies argument x with argument y and print the result. Bonus"
   ]
  },
  {
   "cell_type": "code",
   "execution_count": 32,
   "id": "f11f2d2f",
   "metadata": {},
   "outputs": [
    {
     "name": "stdout",
     "output_type": "stream",
     "text": [
      "enter number to add 15 to it:1\n",
      "enter x:2\n",
      "enter y:3\n",
      "16\n",
      "x=2 multiplies to x=3 are =6\n"
     ]
    }
   ],
   "source": [
    "inp = int(input(\"enter number to add 15 to it:\"))\n",
    "inp_x = int(input(\"enter x:\"))\n",
    "inp_y = int(input(\"enter y:\"))\n",
    "\n",
    "add15 = lambda a : a + 15\n",
    "mlut = lambda x , y : x * y\n",
    "\n",
    "print(add15(inp))\n",
    "print(f\"x={inp_x} multiplies to x={inp_y} are ={mlut(inp_x, inp_y)}\")"
   ]
  }
 ],
 "metadata": {
  "kernelspec": {
   "display_name": "Python 3 (ipykernel)",
   "language": "python",
   "name": "python3"
  },
  "language_info": {
   "codemirror_mode": {
    "name": "ipython",
    "version": 3
   },
   "file_extension": ".py",
   "mimetype": "text/x-python",
   "name": "python",
   "nbconvert_exporter": "python",
   "pygments_lexer": "ipython3",
   "version": "3.9.7"
  }
 },
 "nbformat": 4,
 "nbformat_minor": 5
}
