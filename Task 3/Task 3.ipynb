{
 "cells": [
  {
   "cell_type": "markdown",
   "id": "6e6fba21",
   "metadata": {},
   "source": [
    "##             This is the soluton of task 3 - AI Instant - Khaled Alashmawy"
   ]
  },
  {
   "cell_type": "markdown",
   "id": "a477d03f",
   "metadata": {},
   "source": [
    "#### ---------------------------------------------------------------------------------------------------------------------------------------------------------"
   ]
  },
  {
   "cell_type": "markdown",
   "id": "77a29816",
   "metadata": {},
   "source": [
    "#### Q-1 :  Write a Python function using recursion\n"
   ]
  },
  {
   "cell_type": "code",
   "execution_count": 5,
   "id": "2ae81a75",
   "metadata": {},
   "outputs": [
    {
     "name": "stdout",
     "output_type": "stream",
     "text": [
      "Factorial of number 6 = 720\n"
     ]
    }
   ],
   "source": [
    "\n",
    "def recursive_factorial(n):\n",
    " if n == 1:\n",
    "\n",
    "    return n\n",
    " else:\n",
    "    return n * recursive_factorial(n-1)\n",
    "\n",
    "num = 6\n",
    "\n",
    "print(\"Factorial of number\", num, \"=\", recursive_factorial(num))\n",
    "\n",
    "    "
   ]
  }
 ],
 "metadata": {
  "kernelspec": {
   "display_name": "Python 3 (ipykernel)",
   "language": "python",
   "name": "python3"
  },
  "language_info": {
   "codemirror_mode": {
    "name": "ipython",
    "version": 3
   },
   "file_extension": ".py",
   "mimetype": "text/x-python",
   "name": "python",
   "nbconvert_exporter": "python",
   "pygments_lexer": "ipython3",
   "version": "3.9.7"
  }
 },
 "nbformat": 4,
 "nbformat_minor": 5
}
